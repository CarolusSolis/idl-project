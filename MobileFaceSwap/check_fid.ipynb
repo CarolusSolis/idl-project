{
 "cells": [
  {
   "cell_type": "markdown",
   "metadata": {},
   "source": [
    "# Install dependencies"
   ]
  },
  {
   "cell_type": "code",
   "execution_count": null,
   "metadata": {},
   "outputs": [],
   "source": [
    "!pip install -r ../requirements.txt"
   ]
  },
  {
   "cell_type": "code",
   "execution_count": null,
   "metadata": {},
   "outputs": [],
   "source": [
    "\"\"\"sample command for a single swap\"\"\"\n",
    "# !python3 image_test.py --target_img_path target/599_raw.jpg --source_img_path source/585_raw.jpg --output_dir results"
   ]
  },
  {
   "cell_type": "markdown",
   "metadata": {},
   "source": [
    "# Loop through all images in source and target folder\n",
    "swapping each source image with its respective target image. Save results"
   ]
  },
  {
   "cell_type": "code",
   "execution_count": null,
   "metadata": {},
   "outputs": [],
   "source": [
    "import os\n",
    "import subprocess\n",
    "\n",
    "# Define paths to source and target image folders\n",
    "source_folder = \"source\"\n",
    "target_folder = \"target\"\n",
    "output_folder = \"results\"\n",
    "\n",
    "# Get lists of image files in the source and target folders\n",
    "source_files = sorted([f for f in os.listdir(source_folder) if f.endswith(('.jpg', '.jpeg', '.png'))])\n",
    "target_files = sorted([f for f in os.listdir(target_folder) if f.endswith(('.jpg', '.jpeg', '.png'))])\n",
    "\n",
    "# Ensure the number of source and target images are the same\n",
    "if len(source_files) != len(target_files):\n",
    "    print(\"Error: Number of source and target images do not match.\")\n",
    "    exit(1)\n",
    "\n",
    "# Iterate over each pair of source and target images\n",
    "for source_filename, target_filename in zip(source_files, target_files):\n",
    "    # Construct full paths to source and target images\n",
    "    source_img_path = os.path.join(source_folder, source_filename)\n",
    "    target_img_path = os.path.join(target_folder, target_filename)\n",
    "\n",
    "    # Construct output directory path\n",
    "    output_dir = os.path.join(output_folder, \"\")\n",
    "\n",
    "    # Ensure the output directory exists, if not create it\n",
    "    os.makedirs(output_dir, exist_ok=True)\n",
    "\n",
    "    # Execute your Python script using subprocess\n",
    "    subprocess.run([\"python3\", \"image_test.py\", \n",
    "                    \"--target_img_path\", target_img_path, \n",
    "                    \"--source_img_path\", source_img_path, \n",
    "                    \"--output_dir\", output_dir],\n",
    "                   stderr=subprocess.DEVNULL)\n"
   ]
  },
  {
   "cell_type": "code",
   "execution_count": null,
   "metadata": {},
   "outputs": [],
   "source": [
    "import os\n",
    "import subprocess\n",
    "\n",
    "# Define paths to source and target image folders\n",
    "source_folder = \"source\"\n",
    "target_folder = \"target\"\n",
    "output_folder = \"results\"\n",
    "\n",
    "# Get lists of image files in the source and target folders\n",
    "source_files = sorted([f for f in os.listdir(source_folder) if f.endswith(('.jpg', '.jpeg', '.png'))])\n",
    "target_files = sorted([f for f in os.listdir(target_folder) if f.endswith(('.jpg', '.jpeg', '.png'))])\n",
    "\n",
    "\n",
    "# Iterate over each pair of source and target images\n",
    "# for source_filename, target_filename in zip(source_files, target_files):\n",
    "for source_filename in source_files:\n",
    "    for target_filename in target_files:\n",
    "        # Construct full paths to source and target images\n",
    "        source_img_path = os.path.join(source_folder, source_filename)\n",
    "        target_img_path = os.path.join(target_folder, target_filename)\n",
    "\n",
    "        # Construct output directory path\n",
    "        output_dir = os.path.join(output_folder, \"\")\n",
    "\n",
    "        # Ensure the output directory exists, if not create it\n",
    "        os.makedirs(output_dir, exist_ok=True)\n",
    "\n",
    "        # Execute your Python script using subprocess\n",
    "        subprocess.run([\"python3\", \"image_test.py\", \n",
    "                        \"--target_img_path\", target_img_path, \n",
    "                        \"--source_img_path\", source_img_path, \n",
    "                        \"--output_dir\", output_dir,\n",
    "                        \"--use_gpu\", \"True\"],\n",
    "                    stderr=subprocess.DEVNULL)\n"
   ]
  },
  {
   "cell_type": "markdown",
   "metadata": {},
   "source": [
    "# Delete all _aligned.png images from source \n",
    "(no longer needed and don't want them to be in the fid calculation) "
   ]
  },
  {
   "cell_type": "code",
   "execution_count": null,
   "metadata": {},
   "outputs": [],
   "source": [
    "\n",
    "# List all files in the folder\n",
    "files = os.listdir(source_folder)\n",
    "\n",
    "# Iterate through each file\n",
    "for file_name in files:\n",
    "    # Check if the file ends with '_aligned.png'\n",
    "    if file_name.endswith(\"_aligned.png\"):\n",
    "        # Construct the full file path\n",
    "        file_path = os.path.join(target_folder, file_name)\n",
    "        # Delete the file\n",
    "        os.remove(file_path)"
   ]
  },
  {
   "cell_type": "markdown",
   "metadata": {},
   "source": [
    "# Compute FID between source images and deepfakes"
   ]
  },
  {
   "cell_type": "code",
   "execution_count": null,
   "metadata": {},
   "outputs": [
    {
     "name": "stderr",
     "output_type": "stream",
     "text": [
      "/home/athenadai/.local/lib/python3.7/site-packages/torch/utils/data/dataloader.py:557: UserWarning: This DataLoader will create 12 worker processes in total. Our suggested max number of worker in current system is 4, which is smaller than what this DataLoader is going to create. Please be aware that excessive worker creation might get DataLoader running slow or even freeze, lower the worker number to avoid potential slowness/freeze if necessary.\n",
      "  cpuset_checked))\n"
     ]
    },
    {
     "name": "stdout",
     "output_type": "stream",
     "text": [
      "compute FID between two folders\n",
      "Found 500 images in the folder results\n"
     ]
    },
    {
     "name": "stderr",
     "output_type": "stream",
     "text": [
      "FID results : 100%|██████████| 16/16 [00:12<00:00,  1.25it/s]\n"
     ]
    },
    {
     "name": "stdout",
     "output_type": "stream",
     "text": [
      "Found 500 images in the folder source\n"
     ]
    },
    {
     "name": "stderr",
     "output_type": "stream",
     "text": [
      "FID source : 100%|██████████| 16/16 [00:06<00:00,  2.36it/s]\n"
     ]
    },
    {
     "name": "stdout",
     "output_type": "stream",
     "text": [
      "\n",
      " FID Score: 63.28785982651027\n"
     ]
    }
   ],
   "source": [
    "from cleanfid import fid\n",
    "\n",
    "fake_image_path = output_folder\n",
    "\n",
    "real_image_path = source_folder\n",
    "\n",
    "fid_score = fid.compute_fid(fake_image_path, real_image_path)\n",
    "\n",
    "print(\"\\n FID Score:\", fid_score)"
   ]
  }
 ],
 "metadata": {
  "kernelspec": {
   "display_name": "idl-project",
   "language": "python",
   "name": "python3"
  },
  "language_info": {
   "codemirror_mode": {
    "name": "ipython",
    "version": 3
   },
   "file_extension": ".py",
   "mimetype": "text/x-python",
   "name": "python",
   "nbconvert_exporter": "python",
   "pygments_lexer": "ipython3",
   "version": "3.7.3"
  }
 },
 "nbformat": 4,
 "nbformat_minor": 2
}

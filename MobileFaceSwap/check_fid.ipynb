{
 "cells": [
  {
   "cell_type": "code",
   "execution_count": null,
   "metadata": {},
   "outputs": [],
   "source": [
    "!pip install paddlepaddle\n",
    "!pip install insightface==0.2.1\n",
    "!pip install opencv-python\n",
    "!pip install numpy\n",
    "!pip install onnxruntime\n",
    "!pip install clean-fid"
   ]
  },
  {
   "cell_type": "code",
   "execution_count": null,
   "metadata": {},
   "outputs": [],
   "source": [
    "# test command\n",
    "!python3 image_test.py --target_img_path target/720.jpg --source_img_path source/469.jpg --output_dir results"
   ]
  },
  {
   "cell_type": "markdown",
   "metadata": {},
   "source": []
  },
  {
   "cell_type": "code",
   "execution_count": 7,
   "metadata": {},
   "outputs": [
    {
     "name": "stdout",
     "output_type": "stream",
     "text": [
      "input mean and std: 127.5 127.5\n",
      "find model: ./checkpoints/landmarks/glintr100.onnx recognition\n",
      "find model: ./checkpoints/landmarks/scrfd_10g_bnkps.onnx detection\n",
      "set det-size: (640, 640)\n",
      "input mean and std: 127.5 127.5\n",
      "find model: ./checkpoints/landmarks/glintr100.onnx recognition\n",
      "find model: ./checkpoints/landmarks/scrfd_10g_bnkps.onnx detection\n",
      "set det-size: (640, 640)\n",
      "input mean and std: 127.5 127.5\n",
      "find model: ./checkpoints/landmarks/glintr100.onnx recognition\n",
      "find model: ./checkpoints/landmarks/scrfd_10g_bnkps.onnx detection\n",
      "set det-size: (640, 640)\n",
      "input mean and std: 127.5 127.5\n",
      "find model: ./checkpoints/landmarks/glintr100.onnx recognition\n",
      "find model: ./checkpoints/landmarks/scrfd_10g_bnkps.onnx detection\n",
      "set det-size: (640, 640)\n",
      "input mean and std: 127.5 127.5\n",
      "find model: ./checkpoints/landmarks/glintr100.onnx recognition\n",
      "find model: ./checkpoints/landmarks/scrfd_10g_bnkps.onnx detection\n",
      "set det-size: (640, 640)\n",
      "input mean and std: 127.5 127.5\n",
      "find model: ./checkpoints/landmarks/glintr100.onnx recognition\n",
      "find model: ./checkpoints/landmarks/scrfd_10g_bnkps.onnx detection\n",
      "set det-size: (640, 640)\n",
      "input mean and std: 127.5 127.5\n",
      "find model: ./checkpoints/landmarks/glintr100.onnx recognition\n",
      "find model: ./checkpoints/landmarks/scrfd_10g_bnkps.onnx detection\n",
      "set det-size: (640, 640)\n",
      "input mean and std: 127.5 127.5\n",
      "find model: ./checkpoints/landmarks/glintr100.onnx recognition\n",
      "find model: ./checkpoints/landmarks/scrfd_10g_bnkps.onnx detection\n",
      "set det-size: (640, 640)\n",
      "input mean and std: 127.5 127.5\n",
      "find model: ./checkpoints/landmarks/glintr100.onnx recognition\n",
      "find model: ./checkpoints/landmarks/scrfd_10g_bnkps.onnx detection\n",
      "set det-size: (640, 640)\n",
      "input mean and std: 127.5 127.5\n",
      "find model: ./checkpoints/landmarks/glintr100.onnx recognition\n",
      "find model: ./checkpoints/landmarks/scrfd_10g_bnkps.onnx detection\n",
      "set det-size: (640, 640)\n"
     ]
    }
   ],
   "source": [
    "import os\n",
    "import subprocess\n",
    "\n",
    "# Define paths to source and target image folders\n",
    "source_folder = \"source\"\n",
    "target_folder = \"target\"\n",
    "output_folder = \"results\"\n",
    "\n",
    "# Get lists of image files in the source and target folders\n",
    "source_files = sorted([f for f in os.listdir(source_folder) if f.endswith(('.jpg', '.jpeg', '.png'))])\n",
    "target_files = sorted([f for f in os.listdir(target_folder) if f.endswith(('.jpg', '.jpeg', '.png'))])\n",
    "\n",
    "# Ensure the number of source and target images are the same\n",
    "if len(source_files) != len(target_files):\n",
    "    print(\"Error: Number of source and target images do not match.\")\n",
    "    exit(1)\n",
    "\n",
    "# Iterate over each pair of source and target images\n",
    "for source_filename, target_filename in zip(source_files, target_files):\n",
    "    # Construct full paths to source and target images\n",
    "    source_img_path = os.path.join(source_folder, source_filename)\n",
    "    target_img_path = os.path.join(target_folder, target_filename)\n",
    "\n",
    "    # Construct output directory path\n",
    "    output_dir = os.path.join(output_folder, \"\")\n",
    "\n",
    "    # Ensure the output directory exists, if not create it\n",
    "    os.makedirs(output_dir, exist_ok=True)\n",
    "\n",
    "    # Execute your Python script using subprocess\n",
    "    subprocess.run([\"python3\", \"image_test.py\", \"--target_img_path\", target_img_path, \"--source_img_path\", source_img_path, \"--output_dir\", output_dir],\n",
    "                   stderr=subprocess.DEVNULL)\n"
   ]
  },
  {
   "cell_type": "code",
   "execution_count": 17,
   "metadata": {},
   "outputs": [
    {
     "name": "stdout",
     "output_type": "stream",
     "text": [
      "compute FID between two folders\n",
      "Found 5 images in the folder results\n"
     ]
    },
    {
     "name": "stderr",
     "output_type": "stream",
     "text": [
      "FID results :   0%|          | 0/1 [00:00<?, ?it/s]"
     ]
    },
    {
     "name": "stderr",
     "output_type": "stream",
     "text": [
      "FID results : 100%|██████████| 1/1 [00:00<00:00,  1.64it/s]\n"
     ]
    },
    {
     "name": "stdout",
     "output_type": "stream",
     "text": [
      "Found 5 images in the folder source\n"
     ]
    },
    {
     "name": "stderr",
     "output_type": "stream",
     "text": [
      "FID source : 100%|██████████| 1/1 [00:00<00:00,  1.30it/s]\n"
     ]
    },
    {
     "name": "stdout",
     "output_type": "stream",
     "text": [
      "\n",
      " FID Score: 345.1658743190278\n"
     ]
    }
   ],
   "source": [
    "from cleanfid import fid\n",
    "import glob\n",
    "\n",
    "\n",
    "fake_image_path = output_folder\n",
    "\n",
    "real_image_path = source_folder\n",
    "\n",
    "fid_score = fid.compute_fid(fake_image_path, real_image_path)\n",
    "\n",
    "print(\"\\n FID Score:\", fid_score)"
   ]
  }
 ],
 "metadata": {
  "kernelspec": {
   "display_name": "idl-project",
   "language": "python",
   "name": "python3"
  },
  "language_info": {
   "codemirror_mode": {
    "name": "ipython",
    "version": 3
   },
   "file_extension": ".py",
   "mimetype": "text/x-python",
   "name": "python",
   "nbconvert_exporter": "python",
   "pygments_lexer": "ipython3",
   "version": "3.7.3"
  }
 },
 "nbformat": 4,
 "nbformat_minor": 2
}

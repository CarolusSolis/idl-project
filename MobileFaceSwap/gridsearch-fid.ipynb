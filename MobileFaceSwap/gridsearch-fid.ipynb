{
 "cells": [
  {
   "cell_type": "markdown",
   "metadata": {},
   "source": [
    "Run check_fid.ipynb first\n",
    "(This file is for checking how different sample sizes affect FID score)"
   ]
  },
  {
   "cell_type": "code",
   "execution_count": 22,
   "metadata": {},
   "outputs": [],
   "source": [
    "# map source to target pairs\n",
    "source_target_map = {  source:target for source, target in zip(sorted(os.listdir(\"source\")), sorted(os.listdir(\"target\")))}\n",
    "\n",
    "# map source to target pairs\n",
    "target_source_map = {  target:source for source, target in zip(sorted(os.listdir(\"source\")), sorted(os.listdir(\"target\")))}\n",
    "\n",
    "\n",
    "source_target_map.update(target_source_map )\n"
   ]
  },
  {
   "cell_type": "code",
   "execution_count": 30,
   "metadata": {},
   "outputs": [],
   "source": [
    "import os\n",
    "import shutil\n",
    "\n",
    "def copy_n_images_to_directory(N):\n",
    "    # Source directory containing all the images\n",
    "\n",
    "    # Destination directory where you want to copy the images\n",
    "    destination_directory = f\"results_{N}\"\n",
    "\n",
    "    # Ensure destination directory exists, create it if necessary\n",
    "    if not os.path.exists(destination_directory):\n",
    "        os.makedirs(destination_directory)\n",
    "\n",
    "    # Get a list of all files in the source directory\n",
    "    files = os.listdir(\"results\")\n",
    "\n",
    "    # Sort the files to ensure consistent order\n",
    "    files.sort()\n",
    "\n",
    "    # Iterate over the first N files (images) and copy them to the destination directory\n",
    "    for i, file_name in enumerate(files):\n",
    "        if i < N:\n",
    "            source_file_path = os.path.join(\"results\", file_name)\n",
    "            destination_file_path = os.path.join(destination_directory, file_name)\n",
    "            shutil.copy(source_file_path, destination_file_path)\n",
    "        else:\n",
    "            break\n",
    "\n",
    "    \"\"\" copy the corresponding source files into a folder\"\"\"\n",
    "    # Destination directory where you want to copy the images\n",
    "    destination_directory = f\"source_{N}\"\n",
    "\n",
    "    # Ensure destination directory exists, create it if necessary\n",
    "    if not os.path.exists(destination_directory):\n",
    "        os.makedirs(destination_directory)\n",
    "\n",
    "    # Get a list of all files in the results_N directory (these are the target files)\n",
    "    files = os.listdir(f\"results_{N}\")\n",
    "\n",
    "    # Sort the files to ensure consistent order\n",
    "    files.sort()\n",
    "\n",
    "    # Iterate over the first N files (images) and copy them to the destination directory\n",
    "    for i, target_file_name in enumerate(files):\n",
    "        source_file_name = source_target_map[target_file_name]\n",
    "        try:\n",
    "            source_file_path = os.path.join(\"source\", source_file_name)\n",
    "            destination_file_path = os.path.join(destination_directory, source_file_name)\n",
    "            shutil.copy(source_file_path, destination_file_path)\n",
    "        except Exception as e:\n",
    "            source_file_path = os.path.join(\"target\", source_file_name)\n",
    "            destination_file_path = os.path.join(destination_directory, source_file_name)\n",
    "            shutil.copy(source_file_path, destination_file_path)\n",
    "       \n",
    "\n",
    "    print(f\"{N} images copied successfully.\")\n"
   ]
  },
  {
   "cell_type": "code",
   "execution_count": 44,
   "metadata": {},
   "outputs": [],
   "source": [
    "def compute_fid(fake_image_path, real_image_path):\n",
    "    from cleanfid import fid\n",
    "\n",
    "    fid_score = fid.compute_fid(fake_image_path, real_image_path)\n",
    "\n",
    "    return fid_score"
   ]
  },
  {
   "cell_type": "code",
   "execution_count": 48,
   "metadata": {},
   "outputs": [],
   "source": [
    "def delete_folder(folder_path):\n",
    "    try:\n",
    "        shutil.rmtree(folder_path)\n",
    "        print(f\"Folder '{folder_path}' deleted successfully.\")\n",
    "    except OSError as e:\n",
    "        print(f\"Error: {folder_path} : {e.strerror}\")"
   ]
  },
  {
   "cell_type": "code",
   "execution_count": 53,
   "metadata": {},
   "outputs": [
    {
     "name": "stdout",
     "output_type": "stream",
     "text": [
      "1 images copied successfully.\n",
      "compute FID between two folders\n",
      "Found 1 images in the folder source_1\n"
     ]
    },
    {
     "name": "stderr",
     "output_type": "stream",
     "text": [
      "FID source_1 : 100%|██████████| 1/1 [00:00<00:00,  1.81it/s]\n"
     ]
    },
    {
     "name": "stdout",
     "output_type": "stream",
     "text": [
      "Found 1 images in the folder results_1\n"
     ]
    },
    {
     "name": "stderr",
     "output_type": "stream",
     "text": [
      "FID results_1 : 100%|██████████| 1/1 [00:00<00:00,  1.34it/s]\n"
     ]
    },
    {
     "name": "stdout",
     "output_type": "stream",
     "text": [
      "Folder 'source_1' deleted successfully.\n",
      "Folder 'results_1' deleted successfully.\n",
      "5 images copied successfully.\n",
      "compute FID between two folders\n",
      "Found 5 images in the folder source_5\n"
     ]
    },
    {
     "name": "stderr",
     "output_type": "stream",
     "text": [
      "FID source_5 : 100%|██████████| 1/1 [00:00<00:00,  1.30it/s]\n"
     ]
    },
    {
     "name": "stdout",
     "output_type": "stream",
     "text": [
      "Found 5 images in the folder results_5\n"
     ]
    },
    {
     "name": "stderr",
     "output_type": "stream",
     "text": [
      "FID results_5 : 100%|██████████| 1/1 [00:00<00:00,  1.18it/s]\n"
     ]
    },
    {
     "name": "stdout",
     "output_type": "stream",
     "text": [
      "Folder 'source_5' deleted successfully.\n",
      "Folder 'results_5' deleted successfully.\n",
      "10 images copied successfully.\n",
      "compute FID between two folders\n",
      "Found 10 images in the folder source_10\n"
     ]
    },
    {
     "name": "stderr",
     "output_type": "stream",
     "text": [
      "FID source_10 : 100%|██████████| 1/1 [00:00<00:00,  1.32it/s]\n"
     ]
    },
    {
     "name": "stdout",
     "output_type": "stream",
     "text": [
      "Found 10 images in the folder results_10\n"
     ]
    },
    {
     "name": "stderr",
     "output_type": "stream",
     "text": [
      "FID results_10 : 100%|██████████| 1/1 [00:00<00:00,  1.06it/s]\n"
     ]
    },
    {
     "name": "stdout",
     "output_type": "stream",
     "text": [
      "Folder 'source_10' deleted successfully.\n",
      "Folder 'results_10' deleted successfully.\n",
      "50 images copied successfully.\n",
      "compute FID between two folders\n",
      "Found 50 images in the folder source_50\n"
     ]
    },
    {
     "name": "stderr",
     "output_type": "stream",
     "text": [
      "FID source_50 : 100%|██████████| 2/2 [00:01<00:00,  1.18it/s]\n"
     ]
    },
    {
     "name": "stdout",
     "output_type": "stream",
     "text": [
      "Found 50 images in the folder results_50\n"
     ]
    },
    {
     "name": "stderr",
     "output_type": "stream",
     "text": [
      "FID results_50 : 100%|██████████| 2/2 [00:01<00:00,  1.54it/s]\n"
     ]
    },
    {
     "name": "stdout",
     "output_type": "stream",
     "text": [
      "Folder 'source_50' deleted successfully.\n",
      "Folder 'results_50' deleted successfully.\n",
      "100 images copied successfully.\n",
      "compute FID between two folders\n",
      "Found 100 images in the folder source_100\n"
     ]
    },
    {
     "name": "stderr",
     "output_type": "stream",
     "text": [
      "FID source_100 : 100%|██████████| 4/4 [00:02<00:00,  1.98it/s]\n"
     ]
    },
    {
     "name": "stdout",
     "output_type": "stream",
     "text": [
      "Found 100 images in the folder results_100\n"
     ]
    },
    {
     "name": "stderr",
     "output_type": "stream",
     "text": [
      "FID results_100 : 100%|██████████| 4/4 [00:01<00:00,  2.25it/s]\n"
     ]
    },
    {
     "name": "stdout",
     "output_type": "stream",
     "text": [
      "Folder 'source_100' deleted successfully.\n",
      "Folder 'results_100' deleted successfully.\n",
      "200 images copied successfully.\n",
      "compute FID between two folders\n",
      "Found 200 images in the folder source_200\n"
     ]
    },
    {
     "name": "stderr",
     "output_type": "stream",
     "text": [
      "FID source_200 : 100%|██████████| 7/7 [00:03<00:00,  2.12it/s]\n"
     ]
    },
    {
     "name": "stdout",
     "output_type": "stream",
     "text": [
      "Found 200 images in the folder results_200\n"
     ]
    },
    {
     "name": "stderr",
     "output_type": "stream",
     "text": [
      "FID results_200 : 100%|██████████| 7/7 [00:03<00:00,  2.32it/s]\n"
     ]
    },
    {
     "name": "stdout",
     "output_type": "stream",
     "text": [
      "Folder 'source_200' deleted successfully.\n",
      "Folder 'results_200' deleted successfully.\n",
      "300 images copied successfully.\n",
      "compute FID between two folders\n",
      "Found 300 images in the folder source_300\n"
     ]
    },
    {
     "name": "stderr",
     "output_type": "stream",
     "text": [
      "FID source_300 : 100%|██████████| 10/10 [00:04<00:00,  2.17it/s]\n"
     ]
    },
    {
     "name": "stdout",
     "output_type": "stream",
     "text": [
      "Found 300 images in the folder results_300\n"
     ]
    },
    {
     "name": "stderr",
     "output_type": "stream",
     "text": [
      "FID results_300 : 100%|██████████| 10/10 [00:04<00:00,  2.39it/s]\n"
     ]
    },
    {
     "name": "stdout",
     "output_type": "stream",
     "text": [
      "Folder 'source_300' deleted successfully.\n",
      "Folder 'results_300' deleted successfully.\n",
      "400 images copied successfully.\n",
      "compute FID between two folders\n",
      "Found 400 images in the folder source_400\n"
     ]
    },
    {
     "name": "stderr",
     "output_type": "stream",
     "text": [
      "FID source_400 : 100%|██████████| 13/13 [00:05<00:00,  2.18it/s]\n"
     ]
    },
    {
     "name": "stdout",
     "output_type": "stream",
     "text": [
      "Found 400 images in the folder results_400\n"
     ]
    },
    {
     "name": "stderr",
     "output_type": "stream",
     "text": [
      "FID results_400 : 100%|██████████| 13/13 [00:05<00:00,  2.40it/s]\n"
     ]
    },
    {
     "name": "stdout",
     "output_type": "stream",
     "text": [
      "Folder 'source_400' deleted successfully.\n",
      "Folder 'results_400' deleted successfully.\n",
      "500 images copied successfully.\n",
      "compute FID between two folders\n",
      "Found 500 images in the folder source_500\n"
     ]
    },
    {
     "name": "stderr",
     "output_type": "stream",
     "text": [
      "FID source_500 : 100%|██████████| 16/16 [00:06<00:00,  2.39it/s]\n"
     ]
    },
    {
     "name": "stdout",
     "output_type": "stream",
     "text": [
      "Found 500 images in the folder results_500\n"
     ]
    },
    {
     "name": "stderr",
     "output_type": "stream",
     "text": [
      "FID results_500 : 100%|██████████| 16/16 [00:06<00:00,  2.65it/s]\n"
     ]
    },
    {
     "name": "stdout",
     "output_type": "stream",
     "text": [
      "Folder 'source_500' deleted successfully.\n",
      "Folder 'results_500' deleted successfully.\n",
      "1000 images copied successfully.\n",
      "compute FID between two folders\n",
      "Found 1000 images in the folder source_1000\n"
     ]
    },
    {
     "name": "stderr",
     "output_type": "stream",
     "text": [
      "FID source_1000 : 100%|██████████| 32/32 [00:12<00:00,  2.64it/s]\n"
     ]
    },
    {
     "name": "stdout",
     "output_type": "stream",
     "text": [
      "Found 1000 images in the folder results_1000\n"
     ]
    },
    {
     "name": "stderr",
     "output_type": "stream",
     "text": [
      "FID results_1000 : 100%|██████████| 32/32 [00:12<00:00,  2.50it/s]\n"
     ]
    },
    {
     "name": "stdout",
     "output_type": "stream",
     "text": [
      "Folder 'source_1000' deleted successfully.\n",
      "Folder 'results_1000' deleted successfully.\n"
     ]
    }
   ],
   "source": [
    "sample_sizes=[1,5,10,50,100,200,300,400,500,1000]\n",
    "fid_scores = []\n",
    "for N in sample_sizes:\n",
    "    copy_n_images_to_directory(N)\n",
    "    fid = compute_fid(f\"source_{N}\", f\"results_{N}\")\n",
    "    delete_folder(f\"source_{N}\")\n",
    "    delete_folder(f\"results_{N}\")\n",
    "    fid_scores.append((N, fid))\n"
   ]
  },
  {
   "cell_type": "code",
   "execution_count": 54,
   "metadata": {},
   "outputs": [
    {
     "name": "stdout",
     "output_type": "stream",
     "text": [
      "sample size: 1 FID: 448.70679097696376\n",
      "sample size: 5 FID: 374.51974650484755\n",
      "sample size: 10 FID: 194.51019565435698\n",
      "sample size: 50 FID: 24.69317496510581\n",
      "sample size: 100 FID: 13.469185999638796\n",
      "sample size: 200 FID: 13.193824439624166\n",
      "sample size: 300 FID: 9.709347710605414\n",
      "sample size: 400 FID: 8.508769274437327\n",
      "sample size: 500 FID: 7.031551386825868\n",
      "sample size: 1000 FID: 3.009929048067704\n"
     ]
    }
   ],
   "source": [
    "for (N, fid) in fid_scores:\n",
    "    print(\"sample size:\", N, \"FID:\", fid)"
   ]
  }
 ],
 "metadata": {
  "kernelspec": {
   "display_name": "Python 3",
   "language": "python",
   "name": "python3"
  },
  "language_info": {
   "codemirror_mode": {
    "name": "ipython",
    "version": 3
   },
   "file_extension": ".py",
   "mimetype": "text/x-python",
   "name": "python",
   "nbconvert_exporter": "python",
   "pygments_lexer": "ipython3",
   "version": "3.7.3"
  }
 },
 "nbformat": 4,
 "nbformat_minor": 2
}

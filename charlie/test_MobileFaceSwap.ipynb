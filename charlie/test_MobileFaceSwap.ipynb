{
 "cells": [
  {
   "cell_type": "code",
   "execution_count": 7,
   "metadata": {},
   "outputs": [],
   "source": [
    "target_img_path = \"/home/charliesun/idl-project/charlie/input_images/targets/Adolf-Hitler-1933.png\"\n",
    "source_img_path = \"/home/charliesun/idl-project/charlie/input_images/sources/lisa.png\"\n",
    "output_dir = \"/home/charliesun/idl-project/charlie/MFS_output\"\n",
    "code_path = \"/home/charliesun/idl-project/MobileFaceSwap/image_test.py\""
   ]
  },
  {
   "cell_type": "code",
   "execution_count": 9,
   "metadata": {},
   "outputs": [
    {
     "name": "stdout",
     "output_type": "stream",
     "text": [
      "Traceback (most recent call last):\n",
      "  File \"/home/charliesun/idl-project/MobileFaceSwap/image_test.py\", line 98, in <module>\n",
      "    landmarkModel = LandmarkModel(name='landmarks')\n",
      "                    ^^^^^^^^^^^^^^^^^^^^^^^^^^^^^^^\n",
      "  File \"/home/charliesun/idl-project/MobileFaceSwap/utils/prepare_data.py\", line 25, in __init__\n",
      "    assert 'detection' in self.models\n",
      "AssertionError\n"
     ]
    }
   ],
   "source": [
    "!python $code_path --target_img_path $target_img_path --source_img_path $source_img_path --output_dir $output_dir --use_gpu True"
   ]
  }
 ],
 "metadata": {
  "kernelspec": {
   "display_name": "idl-project",
   "language": "python",
   "name": "python3"
  },
  "language_info": {
   "codemirror_mode": {
    "name": "ipython",
    "version": 3
   },
   "file_extension": ".py",
   "mimetype": "text/x-python",
   "name": "python",
   "nbconvert_exporter": "python",
   "pygments_lexer": "ipython3",
   "version": "3.12.2"
  }
 },
 "nbformat": 4,
 "nbformat_minor": 2
}
